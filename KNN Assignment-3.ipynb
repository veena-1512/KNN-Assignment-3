{
 "cells": [
  {
   "cell_type": "markdown",
   "id": "80bb38fd-5ef9-4f79-af0b-ca76f59e3f08",
   "metadata": {},
   "source": [
    "Q1.Write a Python code to implement the KNN classifier algorithm on load_iris dataset in\n",
    "sklearn.datasets. "
   ]
  },
  {
   "cell_type": "code",
   "execution_count": 1,
   "id": "3e9f6d25-3312-4c00-8454-125cb8f1bb8a",
   "metadata": {},
   "outputs": [
    {
     "name": "stdout",
     "output_type": "stream",
     "text": [
      "Accuracy of KNN with k=3: 1.00\n"
     ]
    }
   ],
   "source": [
    "from sklearn.datasets import load_iris\n",
    "from sklearn.model_selection import train_test_split\n",
    "from sklearn.neighbors import KNeighborsClassifier\n",
    "from sklearn.metrics import accuracy_score\n",
    "\n",
    "iris = load_iris()\n",
    "X = iris.data  # Features\n",
    "y = iris.target  # Target variable (class labels)\n",
    "\n",
    "# Split the dataset into training and testing sets\n",
    "X_train, X_test, y_train, y_test = train_test_split(X, y, test_size=0.3, random_state=42)\n",
    "\n",
    "# Initialize the KNN classifier with a specified number of neighbors (e.g., 3)\n",
    "k = 3\n",
    "knn_classifier = KNeighborsClassifier(n_neighbors=k)\n",
    "\n",
    "# Fit the classifier to the training data\n",
    "knn_classifier.fit(X_train, y_train)\n",
    "\n",
    "# Make predictions on the test data\n",
    "y_pred = knn_classifier.predict(X_test)\n",
    "\n",
    "# Calculate the accuracy of the model\n",
    "accuracy = accuracy_score(y_test, y_pred)\n",
    "print(f\"Accuracy of KNN with k={k}: {accuracy:.2f}\")\n"
   ]
  },
  {
   "cell_type": "markdown",
   "id": "0eaff650-4caa-41c6-b724-250d4c9c08aa",
   "metadata": {},
   "source": [
    "Q2.Write a Python code to implement the KNN regressor algorithm on load_boston dataset in\n",
    "sklearn.datasets."
   ]
  },
  {
   "cell_type": "code",
   "execution_count": 3,
   "id": "878215e0-c81b-470e-891e-58da46b0dba9",
   "metadata": {},
   "outputs": [
    {
     "name": "stdout",
     "output_type": "stream",
     "text": [
      "Mean Squared Error of KNN with k=5: 3222.12\n"
     ]
    }
   ],
   "source": [
    "from sklearn.datasets import load_diabetes\n",
    "from sklearn.model_selection import train_test_split\n",
    "from sklearn.neighbors import KNeighborsRegressor\n",
    "from sklearn.metrics import mean_squared_error\n",
    "\n",
    "diabetes = load_diabetes()\n",
    "X = diabetes.data  \n",
    "y = diabetes.target \n",
    "\n",
    "# Split the dataset into training and testing sets\n",
    "X_train, X_test, y_train, y_test = train_test_split(X, y, test_size=0.3, random_state=42)\n",
    "\n",
    "# Initialize the KNN regressor with a specified number of neighbors (e.g., 5)\n",
    "k = 5\n",
    "knn_regressor = KNeighborsRegressor(n_neighbors=k)\n",
    "\n",
    "# Fit the regressor to the training data\n",
    "knn_regressor.fit(X_train, y_train)\n",
    "\n",
    "# Make predictions on the test data\n",
    "y_pred = knn_regressor.predict(X_test)\n",
    "\n",
    "# Calculate the mean squared error of the model\n",
    "mse = mean_squared_error(y_test, y_pred)\n",
    "print(f\"Mean Squared Error of KNN with k={k}: {mse:.2f}\")"
   ]
  },
  {
   "cell_type": "markdown",
   "id": "d46ccd5a-4c7c-474f-b642-9bfde71b994d",
   "metadata": {},
   "source": [
    "Q3. Write a Python code snippet to find the optimal value of K for the KNN classifier algorithm using\n",
    "cross-validation on load_iris dataset in sklearn.datasets."
   ]
  },
  {
   "cell_type": "code",
   "execution_count": 4,
   "id": "b0c5b386-45d7-49c7-abda-05bfb9bbc6e6",
   "metadata": {},
   "outputs": [
    {
     "name": "stdout",
     "output_type": "stream",
     "text": [
      "Optimal K value: 6\n",
      "Cross-validated accuracy with optimal K: 0.98\n"
     ]
    }
   ],
   "source": [
    "from sklearn.datasets import load_iris\n",
    "from sklearn.model_selection import cross_val_score\n",
    "from sklearn.neighbors import KNeighborsClassifier\n",
    "\n",
    "iris = load_iris()\n",
    "X = iris.data \n",
    "y = iris.target  \n",
    "\n",
    "# Create a list of K values to try\n",
    "k_values = list(range(1, 21))  # You can adjust the range as needed\n",
    "\n",
    "# Initialize variables to store the best K and its corresponding accuracy\n",
    "best_k = None\n",
    "best_accuracy = 0.0\n",
    "\n",
    "# Perform cross-validation for each K value\n",
    "for k in k_values:\n",
    "    knn_classifier = KNeighborsClassifier(n_neighbors=k)\n",
    "    \n",
    "    scores = cross_val_score(knn_classifier, X, y, cv=5)\n",
    "    average_accuracy = scores.mean()\n",
    "    if average_accuracy > best_accuracy:\n",
    "        best_accuracy = average_accuracy\n",
    "        best_k = k\n",
    "print(f\"Optimal K value: {best_k}\")\n",
    "print(f\"Cross-validated accuracy with optimal K: {best_accuracy:.2f}\")"
   ]
  },
  {
   "cell_type": "markdown",
   "id": "a15ef49d-f3f8-4d0d-b36c-264200fda079",
   "metadata": {},
   "source": [
    "Q4.Implement the KNN regressor algorithm with feature scaling on load_boston dataset in\n",
    "sklearn.datasets."
   ]
  },
  {
   "cell_type": "code",
   "execution_count": 3,
   "id": "81788b00-6a0c-4bd2-aebd-1288b197e771",
   "metadata": {},
   "outputs": [
    {
     "name": "stdout",
     "output_type": "stream",
     "text": [
      "Mean Squared Error of KNN with feature scaling and k=5: 3277.74\n"
     ]
    }
   ],
   "source": [
    "from sklearn.datasets import load_diabetes\n",
    "from sklearn.model_selection import train_test_split\n",
    "from sklearn.neighbors import KNeighborsRegressor\n",
    "from sklearn.preprocessing import StandardScaler\n",
    "from sklearn.metrics import mean_squared_error\n",
    "\n",
    "\n",
    "diabetes = load_diabetes()\n",
    "X = diabetes.data \n",
    "y = diabetes.target  \n",
    "\n",
    "X_train, X_test, y_train, y_test = train_test_split(X, y, test_size=0.3, random_state=42)\n",
    "\n",
    "\n",
    "scaler = StandardScaler()\n",
    "\n",
    "X_train_scaled = scaler.fit_transform(X_train)\n",
    "X_test_scaled = scaler.transform(X_test)\n",
    "\n",
    "\n",
    "k = 5\n",
    "knn_regressor = KNeighborsRegressor(n_neighbors=k)\n",
    "\n",
    "knn_regressor.fit(X_train_scaled, y_train)\n",
    "\n",
    "\n",
    "y_pred = knn_regressor.predict(X_test_scaled)\n",
    "\n",
    "mse = mean_squared_error(y_test, y_pred)\n",
    "print(f\"Mean Squared Error of KNN with feature scaling and k={k}: {mse:.2f}\")"
   ]
  },
  {
   "cell_type": "markdown",
   "id": "e066b84c-ef3f-40ec-83fb-453aeae81a96",
   "metadata": {},
   "source": [
    "Q5.Write a Python code snippet to implement the KNN classifier algorithm with weighted voting on\n",
    "load_iris dataset in sklearn.datasets."
   ]
  },
  {
   "cell_type": "code",
   "execution_count": 5,
   "id": "a1567a1b-2e4f-4085-a436-6d9f0ae97a55",
   "metadata": {},
   "outputs": [
    {
     "name": "stdout",
     "output_type": "stream",
     "text": [
      "Accuracy of KNN with weighted voting (k=3): 1.00\n"
     ]
    }
   ],
   "source": [
    "\n",
    "from sklearn.datasets import load_iris\n",
    "from sklearn.model_selection import train_test_split\n",
    "from sklearn.neighbors import KNeighborsClassifier\n",
    "from sklearn.metrics import accuracy_score\n",
    "\n",
    "iris = load_iris()\n",
    "X = iris.data  \n",
    "y = iris.target  \n",
    "\n",
    "X_train, X_test, y_train, y_test = train_test_split(X, y, test_size=0.3, random_state=42)\n",
    "\n",
    "k = 3\n",
    "knn_classifier = KNeighborsClassifier(n_neighbors=k, weights='distance')\n",
    "\n",
    "knn_classifier.fit(X_train, y_train)\n",
    "\n",
    "y_pred = knn_classifier.predict(X_test)\n",
    "\n",
    "accuracy = accuracy_score(y_test, y_pred)\n",
    "print(f\"Accuracy of KNN with weighted voting (k={k}): {accuracy:.2f}\")"
   ]
  },
  {
   "cell_type": "markdown",
   "id": "4ca688fb-6ba1-469c-ad9f-7ecf7500f080",
   "metadata": {},
   "source": [
    "Q6. Implement a function to standardise the features before applying KNN classifier."
   ]
  },
  {
   "cell_type": "code",
   "execution_count": 16,
   "id": "091c0f53-ea99-496a-a8c1-a03002f8b146",
   "metadata": {},
   "outputs": [
    {
     "name": "stdout",
     "output_type": "stream",
     "text": [
      "Accuracy of KNN with standardized features (k=3): 1.00\n"
     ]
    }
   ],
   "source": [
    "from sklearn.preprocessing import StandardScaler\n",
    "\n",
    "def standardize_features(X_train, X_test):\n",
    "    scaler = StandardScaler()\n",
    "\n",
    "    X_train_std = scaler.fit_transform(X_train)\n",
    "\n",
    "    X_test_std = scaler.transform(X_test)\n",
    "\n",
    "    return X_train_std, X_test_std\n",
    "\n",
    "X_train_std, X_test_std = standardize_features(X_train, X_test)\n",
    "\n",
    "X_train_std, X_test_std = standardize_features(X_train, X_test)\n",
    "\n",
    "k = 3\n",
    "knn_classifier = KNeighborsClassifier(n_neighbors=k)\n",
    "\n",
    "knn_classifier.fit(X_train_std, y_train)\n",
    "\n",
    "y_pred = knn_classifier.predict(X_test_std)\n",
    "\n",
    "accuracy = accuracy_score(y_test, y_pred)\n",
    "print(f\"Accuracy of KNN with standardized features (k={k}): {accuracy:.2f}\")\n"
   ]
  },
  {
   "cell_type": "markdown",
   "id": "b6df0038-3d35-46ac-b567-783b5cd42653",
   "metadata": {},
   "source": [
    "Q7. Write a Python function to calculate the euclidean distance between two points."
   ]
  },
  {
   "cell_type": "code",
   "execution_count": 1,
   "id": "ffcfc35b-87bc-4b1e-8f6a-28130d282ba4",
   "metadata": {},
   "outputs": [
    {
     "name": "stdout",
     "output_type": "stream",
     "text": [
      "Euclidean distance between point1 and point2: 5.20\n"
     ]
    }
   ],
   "source": [
    "import math\n",
    "\n",
    "def euclidean_distance(point1, point2):\n",
    "    \n",
    "    if len(point1) != len(point2):\n",
    "        raise ValueError(\"Both points must have the same number of dimensions\")\n",
    "\n",
    "    squared_distance = sum((x - y) ** 2 for x, y in zip(point1, point2))\n",
    "    distance = math.sqrt(squared_distance)\n",
    "    return distance\n",
    "\n",
    "\n",
    "point1 = (1, 2, 3)  # First point with 3 dimensions\n",
    "point2 = (4, 5, 6)  # Second point with 3 dimensions\n",
    "\n",
    "distance = euclidean_distance(point1, point2)\n",
    "print(f\"Euclidean distance between point1 and point2: {distance:.2f}\")"
   ]
  },
  {
   "cell_type": "markdown",
   "id": "09f0509c-3215-409d-bd6f-f30754a35fa8",
   "metadata": {},
   "source": [
    "Q8.Write a Python function to calculate the manhattan distance between two points. "
   ]
  },
  {
   "cell_type": "code",
   "execution_count": 3,
   "id": "c85a265f-69cd-4b60-8529-e9cfdb5ee554",
   "metadata": {},
   "outputs": [
    {
     "name": "stdout",
     "output_type": "stream",
     "text": [
      "Manhattan distance between point1 and point2: 7\n"
     ]
    }
   ],
   "source": [
    "def manhattan_distance(point1, point2):\n",
    "    if len(point1) != len(point2):\n",
    "        raise ValueError(\"Both points must have the same number of dimensions\")\n",
    "\n",
    "    distance = sum(abs(x - y) for x, y in zip(point1, point2))\n",
    "    return distance\n",
    "\n",
    "point1 = (1, 2)  \n",
    "point2 = (4, 6) \n",
    "\n",
    "distance = manhattan_distance(point1, point2)\n",
    "print(f\"Manhattan distance between point1 and point2: {distance}\")"
   ]
  }
 ],
 "metadata": {
  "kernelspec": {
   "display_name": "Python 3 (ipykernel)",
   "language": "python",
   "name": "python3"
  },
  "language_info": {
   "codemirror_mode": {
    "name": "ipython",
    "version": 3
   },
   "file_extension": ".py",
   "mimetype": "text/x-python",
   "name": "python",
   "nbconvert_exporter": "python",
   "pygments_lexer": "ipython3",
   "version": "3.10.8"
  }
 },
 "nbformat": 4,
 "nbformat_minor": 5
}
